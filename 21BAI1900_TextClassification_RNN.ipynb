{
 "cells": [
  {
   "cell_type": "code",
   "execution_count": 4,
   "metadata": {
    "editable": false,
    "id": "z682XYsrjkY9",
    "slideshow": {
     "slide_type": ""
    },
    "tags": []
   },
   "outputs": [],
   "source": [
    "import numpy as np\n",
    "\n",
    "import tensorflow_datasets as tfds\n",
    "import tensorflow as tf"
   ]
  },
  {
   "cell_type": "code",
   "execution_count": 5,
   "metadata": {
    "id": "Mp1Z7P9pYRSK"
   },
   "outputs": [],
   "source": [
    "import matplotlib.pyplot as plt\n",
    "\n",
    "\n",
    "def plot_graphs(history, metric):\n",
    "  plt.plot(history.history[metric])\n",
    "  plt.plot(history.history['val_'+metric], '')\n",
    "  plt.xlabel(\"Epochs\")\n",
    "  plt.ylabel(metric)\n",
    "  plt.legend([metric, 'val_'+metric])"
   ]
  },
  {
   "cell_type": "code",
   "execution_count": 6,
   "metadata": {
    "colab": {
     "base_uri": "https://localhost:8080/"
    },
    "id": "SHRwRoP2nVHX",
    "outputId": "bb511a8f-bd4d-4ec5-9840-bc20c05bfb72"
   },
   "outputs": [
    {
     "data": {
      "text/plain": [
       "(TensorSpec(shape=(), dtype=tf.string, name=None),\n",
       " TensorSpec(shape=(), dtype=tf.int64, name=None))"
      ]
     },
     "execution_count": 6,
     "metadata": {},
     "output_type": "execute_result"
    }
   ],
   "source": [
    "dataset, info = tfds.load('imdb_reviews', with_info=True,\n",
    "                          as_supervised=True)\n",
    "train_dataset, test_dataset = dataset['train'], dataset['test']\n",
    "\n",
    "train_dataset.element_spec"
   ]
  },
  {
   "cell_type": "code",
   "execution_count": 9,
   "metadata": {
    "colab": {
     "base_uri": "https://localhost:8080/"
    },
    "id": "vd4_BGKyurao",
    "outputId": "813f5e0c-2e38-409e-ded3-aaf2b60551c7",
    "scrolled": true
   },
   "outputs": [
    {
     "name": "stdout",
     "output_type": "stream",
     "text": [
      "text:  b\"This was an absolutely terrible movie. Don't be lured in by Christopher Walken or Michael Ironside. Both are great actors, but this must simply be their worst role in history. Even their great acting could not redeem this movie's ridiculous storyline. This movie is an early nineties US propaganda piece. The most pathetic scenes were those when the Columbian rebels were making their cases for revolutions. Maria Conchita Alonso appeared phony, and her pseudo-love affair with Walken was nothing but a pathetic emotional plug in a movie that was devoid of any real meaning. I am disappointed that there are movies like this, ruining actor's like Christopher Walken's good name. I could barely sit through it.\"\n",
      "label:  0\n"
     ]
    }
   ],
   "source": [
    "for example, label in train_dataset:\n",
    "  print('text: ', example.numpy())\n",
    "  print('label: ', label.numpy())\n",
    "  break"
   ]
  },
  {
   "cell_type": "code",
   "execution_count": 5,
   "metadata": {
    "id": "dDsCaZCDYZgm"
   },
   "outputs": [],
   "source": [
    "BUFFER_SIZE = 10000\n",
    "BATCH_SIZE = 64"
   ]
  },
  {
   "cell_type": "code",
   "execution_count": 6,
   "metadata": {
    "id": "VznrltNOnUc5"
   },
   "outputs": [],
   "source": [
    "train_dataset = train_dataset.shuffle(BUFFER_SIZE).batch(BATCH_SIZE).prefetch(tf.data.AUTOTUNE)\n",
    "test_dataset = test_dataset.batch(BATCH_SIZE).prefetch(tf.data.AUTOTUNE)"
   ]
  },
  {
   "cell_type": "code",
   "execution_count": 7,
   "metadata": {
    "colab": {
     "base_uri": "https://localhost:8080/"
    },
    "id": "jqkvdcFv41wC",
    "outputId": "e5883269-510b-46cb-af44-18ac6af5732d",
    "scrolled": true
   },
   "outputs": [
    {
     "name": "stdout",
     "output_type": "stream",
     "text": [
      "texts:  [b\"I think that most of the folks who have posted comments on this movie don't understand how to watch a movie and/or have little sense of elegance. First, to assess a movie you need to understand the extent to which everything in the film works together. Modern sensibilities demand great drama. No, I don't mean great setting of characters and plots, but they seem to demand emotional trajectories that are greatly tragic or greatly comedic. This is a subtle movie. Its beauty lies in its subtlety (not to be confused with simplicity). Neither the story nor the characters are simple in this movie. It is a beautifully filmed movie that makes the most of combining sensuousness, politics, human weakness, venality...you name it. The world it's set in would be alien and not understood today...a world where if you have it you have to flaunt it NOW and LOUDLY, even if you only think you have it.<br /><br />Many people today don't understand that Victorian society wasn't really Victorian as people understand that term today.<br /><br />This movie helps set the record straight.\"\n",
      " b\"This is an OK adaptation, but not as good as the TV version. The actors are generally alright but I found Jeremy Northam rather wet as Mr Knightley, particularly compared to Mark Strong in the TV version. Gwyneth Paltrow is OK and her English accent is pretty good but again, I preferred Kate Beckinsale's Emma. There are excellent support performances from Toni Collette, Juliet Stephenson and Sophy Thompson.<br /><br />The script is often played too much for laughs, the book is a comedy, but there are too many set-piece gags here, and also the Frank Churchill subplot is almost completely absent.<br /><br />My biggest criticism is the scenery. It is far too lush. England has never been like this. It looks like a chocolate box. Only Americans would make it like this.<br /><br />Despite these criticisms I enjoyed this film but would recommend the TV adaptation more.\"\n",
      " b'I looked over the other comments and was thoroughly amused to find that clearly only people who actually worked on the movie had commented. I mean, I hate to say bad things about an amateur production, but if you make a bad movie and want to comment on it, tone it down a little. \"Groundbreaking\" is a little over the top. This is a Boston based college production that doesn\\'t even achieve the level of most amateur college film. It\\'s what you would expect a bunch of kids to do. A silly action film without much creativity. It\\'s pretty funny if you\\'re willing to poke fun at it. Not something you will ever see unless you are a student at Emerson college.']\n",
      "\n",
      "labels:  [1 1 0]\n"
     ]
    }
   ],
   "source": [
    "for example, label in train_dataset.take(1):\n",
    "  print('texts: ', example.numpy()[:3])\n",
    "  print()\n",
    "  print('labels: ', label.numpy()[:3])"
   ]
  },
  {
   "cell_type": "code",
   "execution_count": 8,
   "metadata": {
    "id": "uC25Lu1Yvuqy"
   },
   "outputs": [],
   "source": [
    "VOCAB_SIZE = 1000\n",
    "encoder = tf.keras.layers.TextVectorization(\n",
    "    max_tokens=VOCAB_SIZE)\n",
    "encoder.adapt(train_dataset.map(lambda text, label: text))"
   ]
  },
  {
   "cell_type": "code",
   "execution_count": 9,
   "metadata": {
    "colab": {
     "base_uri": "https://localhost:8080/"
    },
    "id": "tBoyjjWg0Ac9",
    "outputId": "b8c4edc2-e1b9-4949-f1be-90e0d6c6980b"
   },
   "outputs": [
    {
     "data": {
      "text/plain": [
       "array(['', '[UNK]', 'the', 'and', 'a', 'of', 'to', 'is', 'in', 'it', 'i',\n",
       "       'this', 'that', 'br', 'was', 'as', 'for', 'with', 'movie', 'but'],\n",
       "      dtype='<U14')"
      ]
     },
     "execution_count": 9,
     "metadata": {},
     "output_type": "execute_result"
    }
   ],
   "source": [
    "vocab = np.array(encoder.get_vocabulary())\n",
    "vocab[:20]"
   ]
  },
  {
   "cell_type": "code",
   "execution_count": 10,
   "metadata": {
    "colab": {
     "base_uri": "https://localhost:8080/"
    },
    "id": "RGc7C9WiwRWs",
    "outputId": "c28bcdca-972f-4118-a40a-c9011a838a2b"
   },
   "outputs": [
    {
     "data": {
      "text/plain": [
       "array([[ 10, 103,  12, ...,   0,   0,   0],\n",
       "       [ 11,   7,  34, ...,   0,   0,   0],\n",
       "       [ 10, 581, 126, ...,   0,   0,   0]], dtype=int64)"
      ]
     },
     "execution_count": 10,
     "metadata": {},
     "output_type": "execute_result"
    }
   ],
   "source": [
    "encoded_example = encoder(example)[:3].numpy()\n",
    "encoded_example"
   ]
  },
  {
   "cell_type": "code",
   "execution_count": 11,
   "metadata": {
    "colab": {
     "base_uri": "https://localhost:8080/"
    },
    "id": "N_tD0QY5wXaK",
    "outputId": "79fe9268-3552-4ab6-f8d7-9e38f36a7825",
    "scrolled": true
   },
   "outputs": [
    {
     "name": "stdout",
     "output_type": "stream",
     "text": [
      "Original:  b\"I think that most of the folks who have posted comments on this movie don't understand how to watch a movie and/or have little sense of elegance. First, to assess a movie you need to understand the extent to which everything in the film works together. Modern sensibilities demand great drama. No, I don't mean great setting of characters and plots, but they seem to demand emotional trajectories that are greatly tragic or greatly comedic. This is a subtle movie. Its beauty lies in its subtlety (not to be confused with simplicity). Neither the story nor the characters are simple in this movie. It is a beautifully filmed movie that makes the most of combining sensuousness, politics, human weakness, venality...you name it. The world it's set in would be alien and not understood today...a world where if you have it you have to flaunt it NOW and LOUDLY, even if you only think you have it.<br /><br />Many people today don't understand that Victorian society wasn't really Victorian as people understand that term today.<br /><br />This movie helps set the record straight.\"\n",
      "Round-trip:  i think that most of the [UNK] who have [UNK] comments on this movie dont understand how to watch a movie [UNK] have little sense of [UNK] first to [UNK] a movie you need to understand the [UNK] to which everything in the film works together modern [UNK] [UNK] great drama no i dont mean great setting of characters and [UNK] but they seem to [UNK] emotional [UNK] that are [UNK] [UNK] or [UNK] [UNK] this is a [UNK] movie its beauty [UNK] in its [UNK] not to be [UNK] with [UNK] [UNK] the story nor the characters are simple in this movie it is a [UNK] filmed movie that makes the most of [UNK] [UNK] [UNK] human [UNK] [UNK] name it the world its set in would be [UNK] and not [UNK] [UNK] world where if you have it you have to [UNK] it now and [UNK] even if you only think you have itbr br many people today dont understand that [UNK] society wasnt really [UNK] as people understand that [UNK] [UNK] br this movie [UNK] set the [UNK] straight                                                                                                                                                                                                                                                                                                                                                                                                                                                                                                                                                                                                                                                                                                                                                                                                                        \n",
      "\n",
      "Original:  b\"This is an OK adaptation, but not as good as the TV version. The actors are generally alright but I found Jeremy Northam rather wet as Mr Knightley, particularly compared to Mark Strong in the TV version. Gwyneth Paltrow is OK and her English accent is pretty good but again, I preferred Kate Beckinsale's Emma. There are excellent support performances from Toni Collette, Juliet Stephenson and Sophy Thompson.<br /><br />The script is often played too much for laughs, the book is a comedy, but there are too many set-piece gags here, and also the Frank Churchill subplot is almost completely absent.<br /><br />My biggest criticism is the scenery. It is far too lush. England has never been like this. It looks like a chocolate box. Only Americans would make it like this.<br /><br />Despite these criticisms I enjoyed this film but would recommend the TV adaptation more.\"\n",
      "Round-trip:  this is an ok [UNK] but not as good as the tv version the actors are [UNK] [UNK] but i found [UNK] [UNK] rather [UNK] as mr [UNK] particularly [UNK] to mark strong in the tv version [UNK] [UNK] is ok and her english [UNK] is pretty good but again i [UNK] [UNK] [UNK] [UNK] there are excellent [UNK] performances from [UNK] [UNK] [UNK] [UNK] and [UNK] [UNK] br the script is often played too much for laughs the book is a comedy but there are too many [UNK] [UNK] here and also the [UNK] [UNK] [UNK] is almost completely [UNK] br my [UNK] [UNK] is the [UNK] it is far too [UNK] [UNK] has never been like this it looks like a [UNK] [UNK] only [UNK] would make it like [UNK] br despite these [UNK] i enjoyed this film but would recommend the tv [UNK] more                                                                                                                                                                                                                                                                                                                                                                                                                                                                                                                                                                                                                                                                                                                                                                                                                                                           \n",
      "\n",
      "Original:  b'I looked over the other comments and was thoroughly amused to find that clearly only people who actually worked on the movie had commented. I mean, I hate to say bad things about an amateur production, but if you make a bad movie and want to comment on it, tone it down a little. \"Groundbreaking\" is a little over the top. This is a Boston based college production that doesn\\'t even achieve the level of most amateur college film. It\\'s what you would expect a bunch of kids to do. A silly action film without much creativity. It\\'s pretty funny if you\\'re willing to poke fun at it. Not something you will ever see unless you are a student at Emerson college.'\n",
      "Round-trip:  i looked over the other comments and was [UNK] [UNK] to find that clearly only people who actually worked on the movie had [UNK] i mean i hate to say bad things about an [UNK] production but if you make a bad movie and want to comment on it [UNK] it down a little [UNK] is a little over the top this is a [UNK] based [UNK] production that doesnt even [UNK] the level of most [UNK] [UNK] film its what you would expect a bunch of kids to do a silly action film without much [UNK] its pretty funny if youre [UNK] to [UNK] fun at it not something you will ever see unless you are a [UNK] at [UNK] [UNK]                                                                                                                                                                                                                                                                                                                                                                                                                                                                                                                                                                                                                                                                                                                                                                                                                                                                                    \n",
      "\n"
     ]
    }
   ],
   "source": [
    "for n in range(3):\n",
    "  print(\"Original: \", example[n].numpy())\n",
    "  print(\"Round-trip: \", \" \".join(vocab[encoded_example[n]]))\n",
    "  print()"
   ]
  },
  {
   "cell_type": "code",
   "execution_count": 20,
   "metadata": {
    "id": "LwfoBkmRYcP3"
   },
   "outputs": [],
   "source": [
    "model = tf.keras.Sequential([\n",
    "    encoder,\n",
    "    tf.keras.layers.Embedding(\n",
    "        input_dim=len(encoder.get_vocabulary()),\n",
    "        output_dim=64,\n",
    "        # Use masking to handle the variable sequence lengths\n",
    "        mask_zero=True),\n",
    "    tf.keras.layers.SimpleRNN(64),\n",
    "    tf.keras.layers.Dense(64, activation='relu'),\n",
    "    tf.keras.layers.Dense(1)\n",
    "])"
   ]
  },
  {
   "cell_type": "code",
   "execution_count": 13,
   "metadata": {
    "colab": {
     "base_uri": "https://localhost:8080/"
    },
    "id": "87a8-CwfKebw",
    "outputId": "0d810b88-0063-4433-fa4d-a2b703d85486"
   },
   "outputs": [
    {
     "name": "stdout",
     "output_type": "stream",
     "text": [
      "[False, True, True, True, True]\n"
     ]
    }
   ],
   "source": [
    "print([layer.supports_masking for layer in model.layers])"
   ]
  },
  {
   "cell_type": "markdown",
   "metadata": {
    "id": "sRI776ZcH3Tf"
   },
   "source": [
    "Compile the Keras model to configure the training process:"
   ]
  },
  {
   "cell_type": "code",
   "execution_count": 21,
   "metadata": {
    "id": "kj2xei41YZjC"
   },
   "outputs": [],
   "source": [
    "model.compile(loss=tf.keras.losses.BinaryCrossentropy(from_logits=True),\n",
    "              optimizer=tf.keras.optimizers.Adam(1e-4),\n",
    "              metrics=['accuracy'])"
   ]
  },
  {
   "cell_type": "markdown",
   "metadata": {
    "id": "zIwH3nto596k"
   },
   "source": [
    "## Train the model"
   ]
  },
  {
   "cell_type": "code",
   "execution_count": 22,
   "metadata": {
    "colab": {
     "base_uri": "https://localhost:8080/"
    },
    "id": "hw86wWS4YgR2",
    "outputId": "3c14cbdf-4ef2-480d-dd21-f0dd03a6e8a2"
   },
   "outputs": [
    {
     "name": "stdout",
     "output_type": "stream",
     "text": [
      "Epoch 1/10\n",
      "\u001b[1m391/391\u001b[0m \u001b[32m━━━━━━━━━━━━━━━━━━━━\u001b[0m\u001b[37m\u001b[0m \u001b[1m176s\u001b[0m 436ms/step - accuracy: 0.5013 - loss: 0.6934 - val_accuracy: 0.4917 - val_loss: 0.6941\n",
      "Epoch 2/10\n",
      "\u001b[1m391/391\u001b[0m \u001b[32m━━━━━━━━━━━━━━━━━━━━\u001b[0m\u001b[37m\u001b[0m \u001b[1m173s\u001b[0m 441ms/step - accuracy: 0.4997 - loss: 0.6910 - val_accuracy: 0.5026 - val_loss: 0.6894\n",
      "Epoch 3/10\n",
      "\u001b[1m391/391\u001b[0m \u001b[32m━━━━━━━━━━━━━━━━━━━━\u001b[0m\u001b[37m\u001b[0m \u001b[1m166s\u001b[0m 424ms/step - accuracy: 0.4975 - loss: 0.6841 - val_accuracy: 0.5188 - val_loss: 0.6875\n",
      "Epoch 4/10\n",
      "\u001b[1m391/391\u001b[0m \u001b[32m━━━━━━━━━━━━━━━━━━━━\u001b[0m\u001b[37m\u001b[0m \u001b[1m163s\u001b[0m 416ms/step - accuracy: 0.5106 - loss: 0.6840 - val_accuracy: 0.5203 - val_loss: 0.6791\n",
      "Epoch 5/10\n",
      "\u001b[1m391/391\u001b[0m \u001b[32m━━━━━━━━━━━━━━━━━━━━\u001b[0m\u001b[37m\u001b[0m \u001b[1m163s\u001b[0m 416ms/step - accuracy: 0.5046 - loss: 0.6738 - val_accuracy: 0.5891 - val_loss: 0.6199\n",
      "Epoch 6/10\n",
      "\u001b[1m391/391\u001b[0m \u001b[32m━━━━━━━━━━━━━━━━━━━━\u001b[0m\u001b[37m\u001b[0m \u001b[1m161s\u001b[0m 410ms/step - accuracy: 0.6017 - loss: 0.6445 - val_accuracy: 0.4948 - val_loss: 0.6643\n",
      "Epoch 7/10\n",
      "\u001b[1m391/391\u001b[0m \u001b[32m━━━━━━━━━━━━━━━━━━━━\u001b[0m\u001b[37m\u001b[0m \u001b[1m160s\u001b[0m 410ms/step - accuracy: 0.5025 - loss: 0.6801 - val_accuracy: 0.5094 - val_loss: 0.6710\n",
      "Epoch 8/10\n",
      "\u001b[1m391/391\u001b[0m \u001b[32m━━━━━━━━━━━━━━━━━━━━\u001b[0m\u001b[37m\u001b[0m \u001b[1m161s\u001b[0m 413ms/step - accuracy: 0.5168 - loss: 0.6624 - val_accuracy: 0.5229 - val_loss: 0.6532\n",
      "Epoch 9/10\n",
      "\u001b[1m391/391\u001b[0m \u001b[32m━━━━━━━━━━━━━━━━━━━━\u001b[0m\u001b[37m\u001b[0m \u001b[1m164s\u001b[0m 419ms/step - accuracy: 0.5462 - loss: 0.6368 - val_accuracy: 0.6177 - val_loss: 0.6129\n",
      "Epoch 10/10\n",
      "\u001b[1m391/391\u001b[0m \u001b[32m━━━━━━━━━━━━━━━━━━━━\u001b[0m\u001b[37m\u001b[0m \u001b[1m162s\u001b[0m 414ms/step - accuracy: 0.6499 - loss: 0.5803 - val_accuracy: 0.6865 - val_loss: 0.5665\n"
     ]
    }
   ],
   "source": [
    "history = model.fit(train_dataset, epochs=10,\n",
    "                    validation_data=test_dataset,\n",
    "                    validation_steps=30)"
   ]
  },
  {
   "cell_type": "code",
   "execution_count": 23,
   "metadata": {
    "colab": {
     "base_uri": "https://localhost:8080/"
    },
    "id": "BaNbXi43YgUT",
    "outputId": "16775138-5ee5-4832-8057-6ed46dc94141"
   },
   "outputs": [
    {
     "name": "stdout",
     "output_type": "stream",
     "text": [
      "\u001b[1m391/391\u001b[0m \u001b[32m━━━━━━━━━━━━━━━━━━━━\u001b[0m\u001b[37m\u001b[0m \u001b[1m45s\u001b[0m 115ms/step - accuracy: 0.6684 - loss: 0.5770\n",
      "Test Loss: 0.5752939581871033\n",
      "Test Accuracy: 0.6714400053024292\n"
     ]
    }
   ],
   "source": [
    "test_loss, test_acc = model.evaluate(test_dataset)\n",
    "\n",
    "print('Test Loss:', test_loss)\n",
    "print('Test Accuracy:', test_acc)"
   ]
  },
  {
   "cell_type": "code",
   "execution_count": 24,
   "metadata": {
    "colab": {
     "base_uri": "https://localhost:8080/",
     "height": 718
    },
    "id": "OZmwt_mzaQJk",
    "outputId": "0be86a24-842d-4053-aaa1-51c1decf9dfa"
   },
   "outputs": [
    {
     "data": {
      "text/plain": [
       "(0.0, 0.700505617260933)"
      ]
     },
     "execution_count": 24,
     "metadata": {},
     "output_type": "execute_result"
    },
    {
     "data": {
      "image/png": "[encoded data removed]",
      "text/plain": [
       "<Figure size 1600x800 with 2 Axes>"
      ]
     },
     "metadata": {},
     "output_type": "display_data"
    }
   ],
   "source": [
    "plt.figure(figsize=(16, 8))\n",
    "plt.subplot(1, 2, 1)\n",
    "plot_graphs(history, 'accuracy')\n",
    "plt.ylim(None, 1)\n",
    "plt.subplot(1, 2, 2)\n",
    "plot_graphs(history, 'loss')\n",
    "plt.ylim(0, None)"
   ]
  },
  {
   "cell_type": "code",
   "execution_count": null,
   "metadata": {
    "colab": {
     "base_uri": "https://localhost:8080/"
    },
    "id": "ZXgfQSgRW6zU",
    "outputId": "64e6dbdd-5267-46c5-915b-d50c8b040853"
   },
   "outputs": [],
   "source": [
    "sample_text = ('The movie was cool. The animation and the graphics '\n",
    "               'were out of this world. I would recommend this movie.')\n",
    "predictions = model.predict(np.array([sample_text]))"
   ]
  }
 ],
 "metadata": {
  "accelerator": "GPU",
  "colab": {
   "provenance": []
  },
  "kernelspec": {
   "display_name": "Python 3 (ipykernel)",
   "language": "python",
   "name": "python3"
  },
  "language_info": {
   "codemirror_mode": {
    "name": "ipython",
    "version": 3
   },
   "file_extension": ".py",
   "mimetype": "text/x-python",
   "name": "python",
   "nbconvert_exporter": "python",
   "pygments_lexer": "ipython3",
   "version": "3.11.9"
  }
 },
 "nbformat": 4,
 "nbformat_minor": 4
}
